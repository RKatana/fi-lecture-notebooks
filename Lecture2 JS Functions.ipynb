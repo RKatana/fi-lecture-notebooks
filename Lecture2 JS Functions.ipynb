{
 "cells": [
  {
   "cell_type": "markdown",
   "id": "5a9f4ea9-ae9f-436a-82a9-7c29840ba5cd",
   "metadata": {
    "tags": []
   },
   "source": [
    "# JavaScript Functions"
   ]
  },
  {
   "cell_type": "markdown",
   "id": "ab699ff3-11c0-4b36-9064-8d7c0bc5a632",
   "metadata": {
    "tags": []
   },
   "source": [
    "A block of reusable code meant to perform a specific task."
   ]
  },
  {
   "cell_type": "markdown",
   "id": "01d915d2-7116-4728-8197-e7796a47e5ec",
   "metadata": {
    "tags": []
   },
   "source": [
    "## Types of Functions"
   ]
  },
  {
   "cell_type": "markdown",
   "id": "4f57cbd0-bb57-47c8-9fc5-06e5aad66b5a",
   "metadata": {
    "tags": []
   },
   "source": [
    "### 1. Named functions"
   ]
  },
  {
   "cell_type": "markdown",
   "id": "e4b1d5e8-a8d0-4d00-92ff-c54a9b313daf",
   "metadata": {},
   "source": [
    "Function declarations"
   ]
  },
  {
   "cell_type": "code",
   "execution_count": 17,
   "id": "8396fc77-844c-4f30-a738-e6eab8f95c88",
   "metadata": {},
   "outputs": [
    {
     "ename": "SyntaxError",
     "evalue": "Unexpected token ')'",
     "execution_count": 17,
     "output_type": "error",
     "traceback": [
      "evalmachine.<anonymous>:3",
      "}()",
      "  ^",
      "",
      "SyntaxError: Unexpected token ')'",
      "    at new Script (node:vm:100:7)",
      "    at createScript (node:vm:257:10)",
      "    at Object.runInThisContext (node:vm:305:10)",
      "    at run ([eval]:1020:15)",
      "    at onRunRequest ([eval]:864:18)",
      "    at onMessage ([eval]:828:13)",
      "    at process.emit (node:events:527:28)",
      "    at emit (node:internal/child_process:938:14)",
      "    at processTicksAndRejections (node:internal/process/task_queues:84:21)"
     ]
    }
   ],
   "source": [
    "function print(){\n",
    "    console.log('I am a printer!')\n",
    "}"
   ]
  },
  {
   "cell_type": "code",
   "execution_count": 9,
   "id": "791df052-d617-41dd-ad0b-d481c68fff0e",
   "metadata": {},
   "outputs": [
    {
     "name": "stdout",
     "output_type": "stream",
     "text": [
      "I am a printer!\n"
     ]
    }
   ],
   "source": [
    "print()"
   ]
  },
  {
   "cell_type": "markdown",
   "id": "92328c69-06f4-4d7f-89e3-edecec8ca7bc",
   "metadata": {
    "tags": []
   },
   "source": [
    "### 2. Anonymous Functions"
   ]
  },
  {
   "cell_type": "markdown",
   "id": "2cd7c193-4b1d-4dcd-b173-09feb33b8a3a",
   "metadata": {},
   "source": [
    "Function expressions"
   ]
  },
  {
   "cell_type": "code",
   "execution_count": 14,
   "id": "d45d0e36-9659-4e48-9227-46dd7cbfc1fa",
   "metadata": {},
   "outputs": [],
   "source": [
    "const printers = function(){\n",
    "    console.log('Printer')\n",
    "    return 'Printer'\n",
    "    // return undefined\n",
    "}"
   ]
  },
  {
   "cell_type": "code",
   "execution_count": 12,
   "id": "7ac3a300-3972-4d7a-9793-212ffdbf08a6",
   "metadata": {},
   "outputs": [
    {
     "name": "stdout",
     "output_type": "stream",
     "text": [
      "Printer\n"
     ]
    }
   ],
   "source": [
    "let res = printer()"
   ]
  },
  {
   "cell_type": "code",
   "execution_count": 16,
   "id": "7ca68e2d-c7fc-4fb6-a329-a3c9df0e589e",
   "metadata": {},
   "outputs": [
    {
     "name": "stdout",
     "output_type": "stream",
     "text": [
      "Printer\n",
      "Printer\n"
     ]
    }
   ],
   "source": [
    "res = printers()\n",
    "\n",
    "console.log(res)"
   ]
  },
  {
   "cell_type": "markdown",
   "id": "4f262223-3766-4545-95b4-1ae022c4438b",
   "metadata": {
    "tags": []
   },
   "source": [
    "#### Arrow Functions"
   ]
  },
  {
   "cell_type": "markdown",
   "id": "dfe91943-c58d-4cb1-8865-5678602f7ad6",
   "metadata": {},
   "source": [
    "Function expressions"
   ]
  },
  {
   "cell_type": "code",
   "execution_count": 4,
   "id": "c6308371-680e-4eab-ac77-8c05df11b626",
   "metadata": {},
   "outputs": [],
   "source": [
    "const arrowPrinter = () => {\n",
    "    console.log('Printer')\n",
    "}"
   ]
  },
  {
   "cell_type": "code",
   "execution_count": 21,
   "id": "19a58210-85ae-4856-ad60-987c3857eb42",
   "metadata": {},
   "outputs": [
    {
     "ename": "TypeError",
     "evalue": "Assignment to constant variable.",
     "execution_count": 21,
     "output_type": "error",
     "traceback": [
      "evalmachine.<anonymous>:4",
      "arrow2 = (a, b) => a+b",
      "       ^",
      "",
      "TypeError: Assignment to constant variable.",
      "    at evalmachine.<anonymous>:4:8",
      "    at Script.runInThisContext (node:vm:129:12)",
      "    at Object.runInThisContext (node:vm:305:38)",
      "    at run ([eval]:1020:15)",
      "    at onRunRequest ([eval]:864:18)",
      "    at onMessage ([eval]:828:13)",
      "    at process.emit (node:events:527:28)",
      "    at emit (node:internal/child_process:938:14)",
      "    at processTicksAndRejections (node:internal/process/task_queues:84:21)"
     ]
    }
   ],
   "source": [
    "// const arrow1 = () => console.log('Arrow1')\n",
    "\n",
    "// const arrow2 = (a, b) => a+b\n",
    "arrow2 = (a, b) => {\n",
    "   return  a+b\n",
    "}\n",
    "// const arrow3 = name => name\n",
    "arrow3 = name => name"
   ]
  },
  {
   "cell_type": "code",
   "execution_count": 20,
   "id": "cdf36ac9-be66-4bb6-8c77-88ebe8c499ac",
   "metadata": {},
   "outputs": [
    {
     "name": "stdout",
     "output_type": "stream",
     "text": [
      "Arrow1\n",
      "60\n",
      "Gilbert\n"
     ]
    }
   ],
   "source": [
    "arrow1()//No params\n",
    "\n",
    "arrow2(20, 40)// Two args(let a; let b;) == undefined + undefined\n",
    "            //  a = 20\n",
    "            // b = 40\n",
    "\n",
    "arrow3('Gilbert')// One arg (let name;)\n",
    "                // name = 'Gilbert'"
   ]
  },
  {
   "cell_type": "code",
   "execution_count": 5,
   "id": "cfe81c75-93ac-4ecc-b47e-690c011c4da1",
   "metadata": {},
   "outputs": [
    {
     "name": "stdout",
     "output_type": "stream",
     "text": [
      "Printer\n"
     ]
    }
   ],
   "source": [
    "arrowPrinter() //Invoke the function"
   ]
  },
  {
   "cell_type": "markdown",
   "id": "7d319824-c917-45fa-9034-b564e92516b3",
   "metadata": {
    "jp-MarkdownHeadingCollapsed": true,
    "tags": []
   },
   "source": [
    "### 3. IIFE"
   ]
  },
  {
   "cell_type": "markdown",
   "id": "6b07e7e7-74d3-4c1a-9df5-de7e2d7d62e4",
   "metadata": {},
   "source": [
    "Immediately Invoked Function Expressions"
   ]
  },
  {
   "cell_type": "code",
   "execution_count": 7,
   "id": "d6197893-f09f-4468-bdc2-6970b7b91311",
   "metadata": {},
   "outputs": [
    {
     "name": "stdout",
     "output_type": "stream",
     "text": [
      "Called from IIFE\n"
     ]
    }
   ],
   "source": [
    "(\n",
    "    \n",
    "    \n",
    "    function iife(){\n",
    "        console.log('Called from IIFE')\n",
    "    }\n",
    "\n",
    "\n",
    "\n",
    ")()"
   ]
  },
  {
   "cell_type": "markdown",
   "id": "c9b11337-8f76-42be-bd43-67e5985b60e8",
   "metadata": {
    "tags": []
   },
   "source": [
    "## Function Parameters/Arguments"
   ]
  },
  {
   "cell_type": "markdown",
   "id": "91856802-8990-4b1f-a358-e6bff66452dd",
   "metadata": {},
   "source": [
    "Parameters as placeholder variables(undefined) and arguments as the actual value to the params\n",
    "\n",
    "- `let param;`\n",
    "- `param = val`"
   ]
  },
  {
   "cell_type": "code",
   "execution_count": 22,
   "id": "1f11c280-d798-47f9-8bd2-5c2ef94ac43e",
   "metadata": {},
   "outputs": [
    {
     "data": {
      "text/plain": [
       "42"
      ]
     },
     "execution_count": 22,
     "metadata": {},
     "output_type": "execute_result"
    }
   ],
   "source": [
    "function add(num1, num2){\n",
    "//    let num1; (undefined)\n",
    "//     let num2;\n",
    "//     num1 = 2\n",
    "//     num =40\n",
    "    return num1+num2// 2+ 40\n",
    "}\n",
    "\n",
    "add(2, 40)"
   ]
  },
  {
   "cell_type": "code",
   "execution_count": 23,
   "id": "76c9d6d1-9c40-454e-a929-32745d0cc984",
   "metadata": {},
   "outputs": [
    {
     "data": {
      "text/plain": [
       "32"
      ]
     },
     "execution_count": 23,
     "metadata": {},
     "output_type": "execute_result"
    }
   ],
   "source": [
    "let sum = (num1, num2) => num1+num2\n",
    "\n",
    "sum(2, 30)"
   ]
  },
  {
   "cell_type": "code",
   "execution_count": 24,
   "id": "f4ddabe9-071c-4a1c-9851-a44e99abf39d",
   "metadata": {},
   "outputs": [
    {
     "data": {
      "text/plain": [
       "60"
      ]
     },
     "execution_count": 24,
     "metadata": {},
     "output_type": "execute_result"
    }
   ],
   "source": [
    "sum(40, 20)"
   ]
  },
  {
   "cell_type": "code",
   "execution_count": 25,
   "id": "52a0615b-ed66-4706-a3ee-1d21eb77bdca",
   "metadata": {},
   "outputs": [],
   "source": [
    "const greet = name =>{\n",
    "//     Template literals - template strings\n",
    "//     return \"Hello \" + name + \" !\"\n",
    "    return `Hello ${name}`\n",
    "}"
   ]
  },
  {
   "cell_type": "code",
   "execution_count": 29,
   "id": "3edfc864-f99e-49f3-84e5-b1f6ade92c5e",
   "metadata": {},
   "outputs": [
    {
     "name": "stdout",
     "output_type": "stream",
     "text": [
      "Hello Gladys\n"
     ]
    },
    {
     "data": {
      "text/plain": [
       "'Hello Katana'"
      ]
     },
     "execution_count": 29,
     "metadata": {},
     "output_type": "execute_result"
    }
   ],
   "source": [
    "console.log(greet('Gladys'))\n",
    "greet('Katana')"
   ]
  },
  {
   "cell_type": "markdown",
   "id": "63bfdc8c-316e-4389-9ac0-eabce7a12319",
   "metadata": {},
   "source": [
    "### JS Rest Function Params"
   ]
  },
  {
   "cell_type": "code",
   "execution_count": 57,
   "id": "0c8c5fb4-404b-492e-bb9a-17363379c157",
   "metadata": {},
   "outputs": [],
   "source": [
    "function dynamicSum(n1, n2, ...nums){\n",
    "//     TBD\n",
    "    \n",
    "//     Array reduce method prev , curr\n",
    "//     Array filter typeof == string\n",
    "//     ###############################\n",
    "//     Implementation with a for loop\n",
    "//     ------------------------------\n",
    "    \n",
    "//     let total = 0\n",
    "//     for (let n = 0; n<nums.length; n++){\n",
    "//         if (typeof nums[n] == 'number'){\n",
    "//             total += nums[n]\n",
    "//         }\n",
    "        \n",
    "//     }\n",
    "//     let res = total +n1 + n2\n",
    "//     return res\n",
    "//     ###############################\n",
    "    let extras = nums.filter((num) => !(typeof num == 'string')) // Filter out non string values\n",
    "    total =extras.reduce((prev, curr) => prev + curr) // Using an array reduce method to sum up the values\n",
    "    return total + n1 +  n2\n",
    "    \n",
    "    \n",
    "}"
   ]
  },
  {
   "cell_type": "code",
   "execution_count": 58,
   "id": "d2a80353-88ea-48de-abe3-ebb008042112",
   "metadata": {},
   "outputs": [
    {
     "name": "stdout",
     "output_type": "stream",
     "text": [
      "93\n"
     ]
    },
    {
     "data": {
      "text/plain": [
       "93"
      ]
     },
     "execution_count": 58,
     "metadata": {},
     "output_type": "execute_result"
    }
   ],
   "source": [
    "console.log(dynamicSum(1, 2, 30, 20, 40, 'emma'))\n",
    "\n",
    "dynamicSum(1, 2, 30, 20, 40, '2')"
   ]
  },
  {
   "cell_type": "markdown",
   "id": "b25ee5ec-5f6c-4ce3-9d17-17b2301dc0b6",
   "metadata": {
    "jp-MarkdownHeadingCollapsed": true,
    "tags": []
   },
   "source": [
    "## First Class Functions"
   ]
  },
  {
   "cell_type": "markdown",
   "id": "6967d1e3-3c94-4cc2-ad33-de570e3838a5",
   "metadata": {
    "tags": []
   },
   "source": [
    "Functions in JavaScript are first-class objects, which means they can be treated like any other object: they can be assigned to a variable, passed as values to other functions, returned as the value from another function, etc"
   ]
  },
  {
   "cell_type": "code",
   "execution_count": null,
   "id": "933efd95-e5e9-482c-80ca-dbe5613c96fc",
   "metadata": {},
   "outputs": [],
   "source": []
  }
 ],
 "metadata": {
  "kernelspec": {
   "display_name": "JavaScript (Node.js)",
   "language": "javascript",
   "name": "javascript"
  },
  "language_info": {
   "file_extension": ".js",
   "mimetype": "application/javascript",
   "name": "javascript",
   "version": "16.15.0"
  }
 },
 "nbformat": 4,
 "nbformat_minor": 5
}
