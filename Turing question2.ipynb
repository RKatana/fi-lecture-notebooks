{
 "cells": [
  {
   "cell_type": "markdown",
   "id": "3b3a94fe",
   "metadata": {},
   "source": [
    "# Turing Question 2"
   ]
  },
  {
   "cell_type": "markdown",
   "id": "dba86d76",
   "metadata": {},
   "source": [
    "Given an array of integers arr and an integer target. You have to find the two non-overlapping sub-arrays of arr, each with sum equal target.\n",
    "\n",
    "There can multiple answers so you have to find an answer where the sum of length the integers of the two sub-arrays is mimimum. Return the minimum sum of the lengths of the two required sub-arrays, or return `-1`  if you cannot find such two sub-arrays.\n",
    "\n",
    "Example1: Input arr = [3,2,2,4,3], target = 3, Output: 2. Explanation:Only two sub arrays have sum = 3([3], [3]). The sum of their lengths is 2"
   ]
  },
  {
   "cell_type": "code",
   "execution_count": 91,
   "id": "7b36502e",
   "metadata": {},
   "outputs": [],
   "source": [
    "from typing import List\n",
    "from colorama import Fore"
   ]
  },
  {
   "cell_type": "code",
   "execution_count": 81,
   "id": "5a3af277",
   "metadata": {},
   "outputs": [],
   "source": [
    "from datetime import datetime as dt"
   ]
  },
  {
   "cell_type": "code",
   "execution_count": null,
   "id": "b7764b52",
   "metadata": {},
   "outputs": [],
   "source": [
    "now = dt.now()\n",
    "print(f'{Fore.MAGENTA}{now.time()}')"
   ]
  },
  {
   "cell_type": "code",
   "execution_count": 96,
   "id": "ddbcc3e5",
   "metadata": {},
   "outputs": [
    {
     "ename": "TypeError",
     "evalue": "strftime() missing required argument 'format' (pos 1)",
     "output_type": "error",
     "traceback": [
      "\u001b[0;31m---------------------------------------------------------------------------\u001b[0m",
      "\u001b[0;31mTypeError\u001b[0m                                 Traceback (most recent call last)",
      "Input \u001b[0;32mIn [96]\u001b[0m, in \u001b[0;36m<cell line: 1>\u001b[0;34m()\u001b[0m\n\u001b[0;32m----> 1\u001b[0m \u001b[43mnow\u001b[49m\u001b[38;5;241;43m.\u001b[39;49m\u001b[43mtime\u001b[49m\u001b[43m(\u001b[49m\u001b[43m)\u001b[49m\u001b[38;5;241;43m.\u001b[39;49m\u001b[43mstrftime\u001b[49m\u001b[43m(\u001b[49m\u001b[43m)\u001b[49m\n",
      "\u001b[0;31mTypeError\u001b[0m: strftime() missing required argument 'format' (pos 1)"
     ]
    }
   ],
   "source": [
    "now.time().strftime()"
   ]
  },
  {
   "cell_type": "code",
   "execution_count": null,
   "id": "ca7db8b8",
   "metadata": {},
   "outputs": [],
   "source": []
  },
  {
   "cell_type": "code",
   "execution_count": 143,
   "id": "50062df2",
   "metadata": {},
   "outputs": [],
   "source": [
    "class Solution:\n",
    "    def minSumOfLengths(self, arr: List[int], target: int ) -> int:\n",
    "        '''\n",
    "        A method that finds the minimum sum of the lengths of non overlapping sub-arrays\n",
    "        \n",
    "        Args:\n",
    "            arr:    An input list with integers `1<=arr.length <= 10*5`\n",
    "            target: An integer representing the sum of each valid sub-array.\n",
    "            \n",
    "        Returns:\n",
    "            result: Sum of the minimum length of the possible sub-arrays.\n",
    "                    Returns -1, if the conditions are not satisfied.\n",
    "        '''\n",
    "        \n",
    "        start, end = (0, 1) \n",
    "        sub= arr[start:end]\n",
    "        \n",
    "        result = []\n",
    "        if len(arr) <2:\n",
    "            return -1\n",
    "          \n",
    "        while end <=len(arr)+1:\n",
    "            if sum(sub) == target:\n",
    "                result.append(sub)\n",
    "                start, end = end, end+1\n",
    "                sub = arr[start:end]\n",
    "                continue\n",
    "            elif sum(sub)< target:\n",
    "                end+=1\n",
    "                sub = arr[start:end]\n",
    "                \n",
    "                continue\n",
    "            elif sum(sub) > target:\n",
    "                \n",
    "                start, end = end, end+1\n",
    "                sub = arr[start:end]\n",
    "                continue\n",
    "            break\n",
    "            \n",
    "        if len(result)<= 1:\n",
    "            return -1\n",
    "        \n",
    "        sorted_res = sorted(result, key = lambda val: len(val))\n",
    "        print(result)\n",
    "        min_length = len([*sorted_res[0], *sorted_res[1]])\n",
    "                \n",
    "        print(min_length)"
   ]
  },
  {
   "cell_type": "code",
   "execution_count": 159,
   "id": "206b48d3",
   "metadata": {},
   "outputs": [],
   "source": [
    "from typing import List #import List to fix the exception in the first implementation\n",
    "#Step 1\n",
    "class Solution:\n",
    "    #Step 2\n",
    "    def minSumOfLengths(self, arr: List[int], target: int) -> int:\n",
    "        '''\n",
    "        The method that finds the minimum sum of the lengths of non-overlapping sub-arrays(sub-lists).\n",
    "        \n",
    "        Args: \n",
    "            arr:    An input list with integers `1 <= arr.length <= 10*5`.\n",
    "            target: An integer representing the sum of each valid sub-array.\n",
    "            \n",
    "        Returns: \n",
    "            min_length: Sum of the minimum possible pair of sub-arrays.\n",
    "                        Returns -1 if the conditions are not satisfied.\n",
    "        \n",
    "        '''\n",
    "        #Step 3\n",
    "        start, end = (0, 1)\n",
    "        #Step 4\n",
    "        sub_arr = arr[start: end]\n",
    "        #Step 5\n",
    "        sub_arrs = []\n",
    "        \n",
    "        #Step 6\n",
    "        if len(arr) <2:\n",
    "            return -1\n",
    "        \n",
    "        #Step 7\n",
    "        while end <= len(arr)+1:\n",
    "            #Step 8\n",
    "            if sum(sub_arr) == target:\n",
    "                #Step 8a\n",
    "                sub_arrs.append(sub_arr)\n",
    "                #Step 8b\n",
    "                start, end = end, end+1\n",
    "                #Step 8c\n",
    "                sub_arr = arr[start:end]\n",
    "                #Step 8d\n",
    "                continue\n",
    "            #Step 9\n",
    "            elif sum(sub_arr) < target:\n",
    "                #Step 9a \n",
    "                end+=1\n",
    "                #Step 9b\n",
    "                sub_arr = arr[start:end]\n",
    "                #Step 9c\n",
    "                continue\n",
    "            #Step 10\n",
    "            elif sum(sub_arr) > target:\n",
    "                #Step 10a\n",
    "                try:\n",
    "                    sub_arr = arr[start+1:end]\n",
    "                    if sum(sub_arr) == target:\n",
    "                        sub_arrs.append(sub_arr)\n",
    "                        start, end = end, end+1\n",
    "                        sub_arr = arr[start:end]\n",
    "                        continue\n",
    "                    elif sum(sub_arr)<target:\n",
    "                        end+=1\n",
    "                        sub_arr = arr[start:end]\n",
    "                        continue\n",
    "#                     elif sum(sub_arr) > target:\n",
    "                except:\n",
    "                    ...\n",
    "                        \n",
    "                start, end = end, end+1\n",
    "                #Step 10b\n",
    "                sub_arr = arr[start:end]\n",
    "                #Step 10c\n",
    "                continue\n",
    "            #Step 11\n",
    "            break\n",
    "            \n",
    "        #Step 12\n",
    "        if len(sub_arrs)<2:\n",
    "            print(sub_arrs)\n",
    "            return -1\n",
    "        #Step 13: For readability I have broken this step into multiple lines\n",
    "        test = sorted(sub_arrs, key = lambda val: len(val))#Updated this operation\n",
    "        min_sub_arrs = [*test[0], *test[1]] #Unpack the values of the first two sub-arrays\n",
    "        return len(min_sub_arrs) #Compute the length of the two minimum sub-array values and return"
   ]
  },
  {
   "cell_type": "code",
   "execution_count": 160,
   "id": "bfa5a13b",
   "metadata": {},
   "outputs": [],
   "source": [
    "test = Solution()"
   ]
  },
  {
   "cell_type": "code",
   "execution_count": 145,
   "id": "c6a8ae80",
   "metadata": {},
   "outputs": [
    {
     "name": "stdout",
     "output_type": "stream",
     "text": [
      "[[3], [3]]\n",
      "2\n"
     ]
    }
   ],
   "source": [
    "test.minSumOfLengths([3,2,2,4,3], 3)"
   ]
  },
  {
   "cell_type": "code",
   "execution_count": 146,
   "id": "f2ef4708",
   "metadata": {},
   "outputs": [
    {
     "name": "stdout",
     "output_type": "stream",
     "text": [
      "[[3], [2, 1], [3], [1, 1, 1]]\n",
      "2\n"
     ]
    }
   ],
   "source": [
    "test.minSumOfLengths([3, 2,1, 5, 3, 1,1,1], 3)"
   ]
  },
  {
   "cell_type": "code",
   "execution_count": 147,
   "id": "aacfd0fa",
   "metadata": {},
   "outputs": [
    {
     "name": "stdout",
     "output_type": "stream",
     "text": [
      "[[7], [3, 4], [7]]\n",
      "2\n"
     ]
    }
   ],
   "source": [
    "test.minSumOfLengths([7,3,4,7], 7)"
   ]
  },
  {
   "cell_type": "code",
   "execution_count": 148,
   "id": "1e1d3d1b",
   "metadata": {},
   "outputs": [
    {
     "data": {
      "text/plain": [
       "-1"
      ]
     },
     "execution_count": 148,
     "metadata": {},
     "output_type": "execute_result"
    }
   ],
   "source": [
    "test.minSumOfLengths([5,5,4,4,5], 3)"
   ]
  },
  {
   "cell_type": "code",
   "execution_count": 149,
   "id": "07e2a4fc",
   "metadata": {},
   "outputs": [
    {
     "data": {
      "text/plain": [
       "-1"
      ]
     },
     "execution_count": 149,
     "metadata": {},
     "output_type": "execute_result"
    }
   ],
   "source": [
    "test.minSumOfLengths([4,3,6,2,3,4], 6)"
   ]
  },
  {
   "cell_type": "code",
   "execution_count": 153,
   "id": "cea8268b",
   "metadata": {},
   "outputs": [
    {
     "name": "stdout",
     "output_type": "stream",
     "text": [
      "[[3], [1, 1, 1], [1, 2]]\n",
      "3\n"
     ]
    }
   ],
   "source": [
    "test.minSumOfLengths([3,1,1,1,5,1,2,1], 3)"
   ]
  },
  {
   "cell_type": "code",
   "execution_count": 162,
   "id": "1a54b8a6",
   "metadata": {},
   "outputs": [
    {
     "name": "stdout",
     "output_type": "stream",
     "text": [
      "3 Expected to equal:  3\n"
     ]
    }
   ],
   "source": [
    "print(test.minSumOfLengths([3,2,2,1,4,], 3),'Expected to equal: ', 3)"
   ]
  },
  {
   "cell_type": "code",
   "execution_count": 161,
   "id": "c4eb4168",
   "metadata": {},
   "outputs": [
    {
     "data": {
      "text/plain": [
       "3"
      ]
     },
     "execution_count": 161,
     "metadata": {},
     "output_type": "execute_result"
    }
   ],
   "source": [
    "test.minSumOfLengths([3,2,2,1,4,], 3)"
   ]
  },
  {
   "cell_type": "code",
   "execution_count": null,
   "id": "5a9c4c2a",
   "metadata": {},
   "outputs": [],
   "source": []
  }
 ],
 "metadata": {
  "kernelspec": {
   "display_name": "Python 3 (ipykernel)",
   "language": "python",
   "name": "python3"
  },
  "language_info": {
   "codemirror_mode": {
    "name": "ipython",
    "version": 3
   },
   "file_extension": ".py",
   "mimetype": "text/x-python",
   "name": "python",
   "nbconvert_exporter": "python",
   "pygments_lexer": "ipython3",
   "version": "3.8.10"
  }
 },
 "nbformat": 4,
 "nbformat_minor": 5
}
