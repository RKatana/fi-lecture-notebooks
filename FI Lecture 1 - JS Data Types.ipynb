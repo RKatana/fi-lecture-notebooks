{
 "cells": [
  {
   "cell_type": "markdown",
   "id": "850c6cb6-e76b-48d8-b32a-1217285effa8",
   "metadata": {},
   "source": [
    "# Lecture 1 - JavaScript Variables and Data Types"
   ]
  },
  {
   "cell_type": "markdown",
   "id": "be5e4626-91a3-4683-a695-bbf91e81e944",
   "metadata": {
    "tags": []
   },
   "source": [
    "## Variables"
   ]
  },
  {
   "cell_type": "markdown",
   "id": "c1323d28-efe1-4380-b417-a94bcd108623",
   "metadata": {},
   "source": [
    "- A variable in JS can be considered as a tag, identifier or container in which we can store values.\n",
    "- `const`, `let` and `var`, are the three keywords we can use to declare/ define variables."
   ]
  },
  {
   "cell_type": "code",
   "execution_count": 2,
   "id": "9ca64b18-93c0-4794-ac55-87aa7c61e964",
   "metadata": {},
   "outputs": [],
   "source": [
    "const PI = 3.142\n",
    "\n",
    "let name = 'Katana'\n",
    "\n",
    "var  lastName = 'Raphael'"
   ]
  },
  {
   "cell_type": "code",
   "execution_count": 5,
   "id": "7d29367c-3df7-41f2-aaa1-4256f413630e",
   "metadata": {},
   "outputs": [
    {
     "name": "stdout",
     "output_type": "stream",
     "text": [
      "Katana\n",
      "Raphael\n",
      "3.142\n"
     ]
    }
   ],
   "source": [
    "console.log(name)\n",
    "\n",
    "console.log(lastName)\n",
    "\n",
    "console.log(PI)\n"
   ]
  },
  {
   "cell_type": "code",
   "execution_count": 31,
   "id": "c5a659c5-e30c-4f01-8e13-49520f443a3b",
   "metadata": {},
   "outputs": [
    {
     "name": "stdout",
     "output_type": "stream",
     "text": [
      "Test\n"
     ]
    }
   ],
   "source": [
    "var lastName = 'Test'\n",
    "\n",
    "console.log(lastName)"
   ]
  },
  {
   "cell_type": "code",
   "execution_count": 32,
   "id": "681c6be5-3cff-4b46-b298-8e7bd3d6a1fd",
   "metadata": {},
   "outputs": [],
   "source": [
    "var lastName = 'Something Else'"
   ]
  },
  {
   "cell_type": "code",
   "execution_count": 13,
   "id": "0c27eef0-9790-49f5-a64b-778e9babec37",
   "metadata": {},
   "outputs": [
    {
     "ename": "SyntaxError",
     "evalue": "Identifier 'sum' has already been declared",
     "execution_count": 13,
     "output_type": "error",
     "traceback": [
      "evalmachine.<anonymous>:1",
      "const sum = (a, b) => a+b",
      "^",
      "",
      "SyntaxError: Identifier 'sum' has already been declared",
      "    at Script.runInThisContext (node:vm:129:12)",
      "    at Object.runInThisContext (node:vm:305:38)",
      "    at run ([eval]:1020:15)",
      "    at onRunRequest ([eval]:864:18)",
      "    at onMessage ([eval]:828:13)",
      "    at process.emit (node:events:527:28)",
      "    at emit (node:internal/child_process:938:14)",
      "    at processTicksAndRejections (node:internal/process/task_queues:84:21)"
     ]
    }
   ],
   "source": [
    "const sum = (a, b) => a+b"
   ]
  },
  {
   "cell_type": "code",
   "execution_count": 15,
   "id": "e618c67e-01c5-407a-b6ce-d262a7df4a47",
   "metadata": {},
   "outputs": [
    {
     "data": {
      "text/plain": [
       "50"
      ]
     },
     "execution_count": 15,
     "metadata": {},
     "output_type": "execute_result"
    }
   ],
   "source": [
    "sum(20, 30)"
   ]
  },
  {
   "cell_type": "code",
   "execution_count": 20,
   "id": "9b8a9d7e-2a91-46b4-884b-0973b5d7182a",
   "metadata": {},
   "outputs": [],
   "source": [
    "const month = 'Jan'\n"
   ]
  },
  {
   "cell_type": "code",
   "execution_count": 24,
   "id": "2fa623be-0fb9-4ac1-9e83-c268649811cb",
   "metadata": {},
   "outputs": [
    {
     "ename": "SyntaxError",
     "evalue": "Identifier 'schooll' has already been declared",
     "execution_count": 24,
     "output_type": "error",
     "traceback": [
      "evalmachine.<anonymous>:1",
      "let schooll;",
      "^",
      "",
      "SyntaxError: Identifier 'schooll' has already been declared",
      "    at Script.runInThisContext (node:vm:129:12)",
      "    at Object.runInThisContext (node:vm:305:38)",
      "    at run ([eval]:1020:15)",
      "    at onRunRequest ([eval]:864:18)",
      "    at onMessage ([eval]:828:13)",
      "    at process.emit (node:events:527:28)",
      "    at emit (node:internal/child_process:938:14)",
      "    at processTicksAndRejections (node:internal/process/task_queues:84:21)"
     ]
    }
   ],
   "source": [
    "let schooll;\n",
    "\n"
   ]
  },
  {
   "cell_type": "code",
   "execution_count": 23,
   "id": "fca96ca8-7ba1-4096-9dc8-6316d87e9953",
   "metadata": {},
   "outputs": [
    {
     "name": "stdout",
     "output_type": "stream",
     "text": [
      "undefined\n",
      "Moringa\n"
     ]
    }
   ],
   "source": [
    "console.log(schooll)\n",
    "schooll = 'Moringa'\n",
    "\n",
    "console.log(schooll)"
   ]
  },
  {
   "cell_type": "markdown",
   "id": "1d49d822-77b9-4922-b1df-6036b5413d30",
   "metadata": {
    "tags": []
   },
   "source": [
    "## Data Types"
   ]
  },
  {
   "cell_type": "markdown",
   "id": "2ce9b9f4-8421-433a-9f79-74b77d0bf329",
   "metadata": {
    "tags": []
   },
   "source": [
    "The set of types in the JavaScript language consists of primitive values and objects.\n",
    "\n",
    "### Primitive Types:"
   ]
  },
  {
   "cell_type": "markdown",
   "id": "d8f8211c-6972-4cef-b773-79dba6fa5943",
   "metadata": {
    "tags": []
   },
   "source": [
    "- String type"
   ]
  },
  {
   "cell_type": "code",
   "execution_count": 38,
   "id": "c50b05a1-ea66-40a2-b456-d23ff5845590",
   "metadata": {},
   "outputs": [
    {
     "name": "stdout",
     "output_type": "stream",
     "text": [
      "string\n"
     ]
    }
   ],
   "source": [
    "let time = '3.20'\n",
    "\n",
    "console.log(typeof time)"
   ]
  },
  {
   "cell_type": "markdown",
   "id": "6209c21b-005e-4eb3-b6a9-965d9f4b5a2a",
   "metadata": {
    "tags": []
   },
   "source": [
    "- Number type"
   ]
  },
  {
   "cell_type": "code",
   "execution_count": 37,
   "id": "cd35ed8e-eb4b-43a2-8f19-ce62f3fb9bc9",
   "metadata": {},
   "outputs": [
    {
     "name": "stdout",
     "output_type": "stream",
     "text": [
      "number\n",
      "number\n"
     ]
    }
   ],
   "source": [
    "let myNum1 = 10\n",
    "\n",
    "let myNum = 3.142\n",
    "\n",
    "console.log(typeof myNum)\n",
    "\n",
    "console.log(typeof myNum1)"
   ]
  },
  {
   "cell_type": "markdown",
   "id": "07a7d68a-4ba4-4a3e-88ae-cd261ca777fa",
   "metadata": {
    "tags": []
   },
   "source": [
    "- Boolean type"
   ]
  },
  {
   "cell_type": "code",
   "execution_count": 36,
   "id": "98e786ab-4101-497e-b99b-d9ae5ceb941d",
   "metadata": {},
   "outputs": [
    {
     "name": "stdout",
     "output_type": "stream",
     "text": [
      "true\n",
      "false\n",
      "false\n"
     ]
    }
   ],
   "source": [
    "console.log(-0==0)\n",
    "\n",
    "console.log(-1 == 1)\n",
    "\n",
    "console.log(true == false)"
   ]
  },
  {
   "cell_type": "markdown",
   "id": "63da4c5c-242c-482f-99f5-cf69c70c7a17",
   "metadata": {
    "tags": []
   },
   "source": [
    "- Null type"
   ]
  },
  {
   "cell_type": "code",
   "execution_count": 33,
   "id": "08138aec-41f6-43cd-8e49-7df744651598",
   "metadata": {},
   "outputs": [
    {
     "name": "stdout",
     "output_type": "stream",
     "text": [
      "object\n"
     ]
    }
   ],
   "source": [
    "let empty = null\n",
    "\n",
    "console.log(typeof empty)"
   ]
  },
  {
   "cell_type": "markdown",
   "id": "897ac061-0f37-41fe-ba9f-07414c0bddcc",
   "metadata": {
    "tags": []
   },
   "source": [
    "- Undefined type"
   ]
  },
  {
   "cell_type": "code",
   "execution_count": 34,
   "id": "934323f8-2a0c-47e7-a9a3-3cebccfb43cd",
   "metadata": {},
   "outputs": [
    {
     "name": "stdout",
     "output_type": "stream",
     "text": [
      "undefined\n"
     ]
    }
   ],
   "source": [
    "let myName;\n",
    "\n",
    "console.log(typeof myName)"
   ]
  },
  {
   "cell_type": "markdown",
   "id": "1a904a2b-f753-484e-98b3-29279be5972a",
   "metadata": {
    "tags": []
   },
   "source": [
    "- Bigint type"
   ]
  },
  {
   "cell_type": "markdown",
   "id": "32e120e3-b36d-4a04-8476-57cd5977cad7",
   "metadata": {
    "tags": []
   },
   "source": [
    "- Symbol type"
   ]
  },
  {
   "cell_type": "code",
   "execution_count": 45,
   "id": "90bc65ab-cc95-41c6-92fb-2dd50fee42cf",
   "metadata": {},
   "outputs": [],
   "source": [
    "let sym0 = Symbol('Sym')\n",
    "\n",
    "\n",
    "let sym3  = Symbol('Sym')"
   ]
  },
  {
   "cell_type": "code",
   "execution_count": 46,
   "id": "ba76f75b-1d1d-43df-be75-f8bab8363b32",
   "metadata": {},
   "outputs": [
    {
     "name": "stdout",
     "output_type": "stream",
     "text": [
      "false\n"
     ]
    }
   ],
   "source": [
    "console.log(sym0 ==  sym3)"
   ]
  },
  {
   "cell_type": "markdown",
   "id": "ca1debba-43e5-424d-83e5-6edfdd2868de",
   "metadata": {
    "tags": []
   },
   "source": [
    "### Objects"
   ]
  },
  {
   "cell_type": "markdown",
   "id": "677a72b1-7b90-42b1-be9b-a633acd153f7",
   "metadata": {
    "tags": []
   },
   "source": [
    "- In JavaScript, objects can be seen as a collection of properties.\n",
    "- In computer science, an object is a value in memory which is possibly referenced by an identifier. And so based on this definition you may consider everything in JS as an object."
   ]
  },
  {
   "cell_type": "code",
   "execution_count": 48,
   "id": "d0aedc75-e580-4a05-849f-f8083d21b15d",
   "metadata": {},
   "outputs": [],
   "source": [
    "let person = {\n",
    "    gender:'Male',\n",
    "    location: 'Nairobi',\n",
    "    employed: true,\n",
    "    name:'John Doe'\n",
    "}"
   ]
  },
  {
   "cell_type": "code",
   "execution_count": 51,
   "id": "7c9d1c15-711f-4ed3-9ed7-276fd0005511",
   "metadata": {},
   "outputs": [
    {
     "name": "stdout",
     "output_type": "stream",
     "text": [
      "{\n",
      "  gender: 'Male',\n",
      "  location: 'Nairobi',\n",
      "  employed: false,\n",
      "  name: 'John Doe'\n",
      "}\n",
      "John Doe\n"
     ]
    }
   ],
   "source": [
    "person.employed = false\n",
    "\n",
    "\n",
    "let employeeName = person.name\n",
    "console.log(person)\n",
    "\n",
    "\n",
    "console.log(employeeName)"
   ]
  }
 ],
 "metadata": {
  "kernelspec": {
   "display_name": "JavaScript (Node.js)",
   "language": "javascript",
   "name": "javascript"
  },
  "language_info": {
   "file_extension": ".js",
   "mimetype": "application/javascript",
   "name": "javascript",
   "version": "16.15.0"
  }
 },
 "nbformat": 4,
 "nbformat_minor": 5
}
